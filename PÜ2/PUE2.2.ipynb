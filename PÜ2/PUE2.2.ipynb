{
 "cells": [
  {
   "cell_type": "code",
   "execution_count": 1,
   "metadata": {},
   "outputs": [],
   "source": [
    "import os \n",
    "import numpy as np\n",
    "import matplotlib.pyplot as plt\n",
    "import glob\n",
    "\n",
    "#read files from Directory\n",
    "path = \"C:/Users/Johannes/Documents/Programmierübung 2/MCI-MSE_Aufgaben/PÜ2/input_data\"\n",
    "\n",
    "#same function for all 3 files\n",
    "for filename in os.listdir(path):\n",
    "\n",
    "    #difference 2 file types\n",
    "   if filename.startswith(\"power_data\") and filename.endswith(\".txt\"):\n",
    "\n",
    "       #create np.array\n",
    "       power_data_watts = open(os.path.join(path, filename)).read().split(\"\\n\")\n",
    "       data = np.array(power_data_watts)\n",
    "\n",
    "       number = filename.split(\"_\")\n",
    "       number = number[2].split(\".\")\n",
    "\n",
    "       #plot data\n",
    "       plt.figure(\"power_data \" + number[0])\n",
    "       plt.figure(\"power_data\" + number[0])\n",
    "       plt.plot(data, color = \"red\")\n",
    "\n",
    "plt.show()\n",
    "\n",
    "\n",
    "\n",
    "\n"
   ]
  },
  {
   "cell_type": "code",
   "execution_count": null,
   "metadata": {},
   "outputs": [],
   "source": []
  }
 ],
 "metadata": {
  "interpreter": {
   "hash": "a08cc04a0f0db71c16d6136c6447eef258a1d541c2db18e098adf191d06970df"
  },
  "kernelspec": {
   "display_name": "Python 3.10.3 64-bit",
   "language": "python",
   "name": "python3"
  },
  "language_info": {
   "codemirror_mode": {
    "name": "ipython",
    "version": 3
   },
   "file_extension": ".py",
   "mimetype": "text/x-python",
   "name": "python",
   "nbconvert_exporter": "python",
   "pygments_lexer": "ipython3",
   "version": "3.9.11"
  },
  "orig_nbformat": 4
 },
 "nbformat": 4,
 "nbformat_minor": 2
}
