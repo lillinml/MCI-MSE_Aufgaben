{
 "cells": [
  {
   "cell_type": "code",
   "execution_count": 4,
   "metadata": {},
   "outputs": [
    {
     "name": "stdout",
     "output_type": "stream",
     "text": [
      "1\n",
      "Kuchen\n"
     ]
    }
   ],
   "source": [
    "class Mitarbeiter():\n",
    "    \"\"\"Doc-String\"\"\"\n",
    "    def __init__(self, name, gehaltsgruppe):\n",
    "        self.name = name\n",
    "        self.gehaltsgruppe = gehaltsgruppe\n",
    "    \n",
    "    def abc(self):\n",
    "        i = 1\n",
    "        return i \n",
    "\n",
    "class Arzt(Mitarbeiter):\n",
    "    def __init__(self, name, gehaltsgruppe, fachgebiet):\n",
    "        Mitarbeiter.__init__(self, name, gehaltsgruppe)\n",
    "        self.fachgebiet = fachgebiet\n",
    "a1 = Arzt(\"Dr Oetker\",5, \"Kuchen\")\n",
    "print(a1.abc())\n",
    "print(a1.fachgebiet)"
   ]
  },
  {
   "cell_type": "code",
   "execution_count": null,
   "metadata": {},
   "outputs": [],
   "source": []
  }
 ],
 "metadata": {
  "interpreter": {
   "hash": "a08cc04a0f0db71c16d6136c6447eef258a1d541c2db18e098adf191d06970df"
  },
  "kernelspec": {
   "display_name": "Python 3.10.3 64-bit",
   "language": "python",
   "name": "python3"
  },
  "language_info": {
   "codemirror_mode": {
    "name": "ipython",
    "version": 3
   },
   "file_extension": ".py",
   "mimetype": "text/x-python",
   "name": "python",
   "nbconvert_exporter": "python",
   "pygments_lexer": "ipython3",
   "version": "3.10.3"
  },
  "orig_nbformat": 4
 },
 "nbformat": 4,
 "nbformat_minor": 2
}
