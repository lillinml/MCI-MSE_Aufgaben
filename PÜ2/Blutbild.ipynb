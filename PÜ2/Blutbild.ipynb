{
 "cells": [
  {
   "cell_type": "code",
   "execution_count": 8,
   "metadata": {},
   "outputs": [
    {
     "name": "stdout",
     "output_type": "stream",
     "text": [
      "2\n"
     ]
    }
   ],
   "source": [
    "class Blutbild:\n",
    "\n",
    "    def __init__(self, Erythrozyten, Leukozyten):\n",
    "        self.Erythrozyten = Erythrozyten\n",
    "        self.Leukozyten = Leukozyten\n",
    "\n",
    "class KleinesBlutbild( Blutbild ):\n",
    "    def __init__(self, Erythrozyten, Leukozyten):\n",
    "        Blutbild.__init__(self, Erythrozyten, Leukozyten)\n",
    "\n",
    "class GrossesBlutbild( Blutbild ):\n",
    "    def __init__(self, Erythrozyten, Leukozyten, HbWert):\n",
    "        self.HbWert = HbWert\n",
    "        Blutbild.__init__(self, Erythrozyten, Leukozyten)\n",
    "    def get_HbWert(self):\n",
    "        return self.HbWert\n",
    "new_blutbild = Blutbild(200,300)\n",
    "new_big_blutbild = GrossesBlutbild(200,300,2)\n",
    "print(new_big_blutbild.HbWert)"
   ]
  },
  {
   "cell_type": "code",
   "execution_count": null,
   "metadata": {},
   "outputs": [],
   "source": []
  }
 ],
 "metadata": {
  "interpreter": {
   "hash": "a08cc04a0f0db71c16d6136c6447eef258a1d541c2db18e098adf191d06970df"
  },
  "kernelspec": {
   "display_name": "Python 3.10.3 64-bit",
   "language": "python",
   "name": "python3"
  },
  "language_info": {
   "codemirror_mode": {
    "name": "ipython",
    "version": 3
   },
   "file_extension": ".py",
   "mimetype": "text/x-python",
   "name": "python",
   "nbconvert_exporter": "python",
   "pygments_lexer": "ipython3",
   "version": "3.10.3"
  },
  "orig_nbformat": 4
 },
 "nbformat": 4,
 "nbformat_minor": 2
}
