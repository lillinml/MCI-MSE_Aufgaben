{
 "cells": [
  {
   "cell_type": "code",
   "execution_count": 8,
   "metadata": {},
   "outputs": [
    {
     "ename": "SyntaxError",
     "evalue": "expected ':' (3587086151.py, line 7)",
     "output_type": "error",
     "traceback": [
      "\u001b[1;36m  Input \u001b[1;32mIn [8]\u001b[1;36m\u001b[0m\n\u001b[1;33m    for i in range(len(array)1,2,3):\u001b[0m\n\u001b[1;37m                  ^\u001b[0m\n\u001b[1;31mSyntaxError\u001b[0m\u001b[1;31m:\u001b[0m expected ':'\n"
     ]
    }
   ],
   "source": [
    "import numpy as np\n",
    "import matplotlib.pyplot as plt\n",
    "import os \n",
    "\n",
    "# %% Öffnen der Datei und konvertieren zu numpy-Array\n",
    "def dateien_lesen ():\n",
    "    for i in range(len(array)1,2,3):\n",
    "        n = n + 1\n",
    "        if n = 3\n",
    "        return \n",
    "    \n",
    "file_name =  'input_data/power_data_n.txt'\n",
    "power_data_watts = open(file_name).read().split(\"\\n\")\n",
    "x = np.array(power_data_watts)\n",
    "\n",
    "# %% Erstellen des Plots\n",
    "plt.title(\"Line graph\")\n",
    "plt.plot(x, color=\"red\")\n",
    "\n",
    "plt.show()\n",
    "\n",
    "#for i in range[1,2,3]:\n",
    " #   n = n+1\n",
    "#file_name = 'input_data/power_data_n.txt'\n",
    "\n",
    "#power_data_watts = open(file_name).read().split(\"\\n\")\n",
    "#x = np.array(power_data_watts)\n",
    "#plt.title(\"Line graph\")\n",
    "#plt.plot(x, color=\"red\")\n",
    "#plt.show()\n",
    "\n",
    "\n",
    "def dateien_lesen (pfad):\n",
    "    filesnames=os.listdir(pfad) #Liste der Dateien\n",
    "    iter_list=[\"input_data/power_data_1.txt\"]\n",
    "    iter_list=[\"input_data/power_data_2.txt\"]\n",
    "    text_list=[\"input_data/power_data_3.txt\"]\n",
    "    for f in filesnames:\n",
    "        iter_list.append(iter(file(pfad+f,\"r\"))) \n",
    "        for iter_f in iter_list:\n",
    "            text_list.append(iter_f.next())\n",
    "    return text_list\n",
    "\n",
    "#plt.show(dateien_lesen)\n",
    "\n",
    "fobj_in = open(\"input_data/power_data_1.txt\")\n",
    "fobj_out = open(\"input_data/power_data_2.txt\",\"w\")\n",
    "i = 1\n",
    "for line in fobj_in:\n",
    "    print(line.rstrip())\n",
    "    fobj_out.write(str(i) + \": \" + line)\n",
    "    i = i + 1\n",
    "fobj_in.close()\n",
    "fobj_out.close()"
   ]
  },
  {
   "cell_type": "code",
   "execution_count": null,
   "metadata": {},
   "outputs": [],
   "source": []
  }
 ],
 "metadata": {
  "interpreter": {
   "hash": "a08cc04a0f0db71c16d6136c6447eef258a1d541c2db18e098adf191d06970df"
  },
  "kernelspec": {
   "display_name": "Python 3.10.3 64-bit",
   "language": "python",
   "name": "python3"
  },
  "language_info": {
   "codemirror_mode": {
    "name": "ipython",
    "version": 3
   },
   "file_extension": ".py",
   "mimetype": "text/x-python",
   "name": "python",
   "nbconvert_exporter": "python",
   "pygments_lexer": "ipython3",
   "version": "3.10.3"
  },
  "orig_nbformat": 4
 },
 "nbformat": 4,
 "nbformat_minor": 2
}
