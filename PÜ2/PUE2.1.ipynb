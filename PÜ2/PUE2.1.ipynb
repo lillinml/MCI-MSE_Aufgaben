{
 "cells": [
  {
   "cell_type": "code",
   "execution_count": 9,
   "metadata": {},
   "outputs": [
    {
     "ename": "TypeError",
     "evalue": "'type' object is not subscriptable",
     "output_type": "error",
     "traceback": [
      "\u001b[1;31m---------------------------------------------------------------------------\u001b[0m",
      "\u001b[1;31mTypeError\u001b[0m                                 Traceback (most recent call last)",
      "\u001b[1;32mc:\\Users\\lilli\\Documents\\Studium\\Code\\MSE Project\\MCI-MSE_Aufgaben\\PÜ2\\PUE2.1.ipynb Cell 1'\u001b[0m in \u001b[0;36m<cell line: 4>\u001b[1;34m()\u001b[0m\n\u001b[0;32m      <a href='vscode-notebook-cell:/c%3A/Users/lilli/Documents/Studium/Code/MSE%20Project/MCI-MSE_Aufgaben/P%C3%9C2/PUE2.1.ipynb#ch0000000?line=0'>1</a>\u001b[0m \u001b[39mimport\u001b[39;00m \u001b[39mnumpy\u001b[39;00m \u001b[39mas\u001b[39;00m \u001b[39mnp\u001b[39;00m\n\u001b[0;32m      <a href='vscode-notebook-cell:/c%3A/Users/lilli/Documents/Studium/Code/MSE%20Project/MCI-MSE_Aufgaben/P%C3%9C2/PUE2.1.ipynb#ch0000000?line=1'>2</a>\u001b[0m \u001b[39mimport\u001b[39;00m \u001b[39mmatplotlib\u001b[39;00m\u001b[39m.\u001b[39;00m\u001b[39mpyplot\u001b[39;00m \u001b[39mas\u001b[39;00m \u001b[39mplt\u001b[39;00m\n\u001b[1;32m----> <a href='vscode-notebook-cell:/c%3A/Users/lilli/Documents/Studium/Code/MSE%20Project/MCI-MSE_Aufgaben/P%C3%9C2/PUE2.1.ipynb#ch0000000?line=3'>4</a>\u001b[0m \u001b[39mfor\u001b[39;00m i \u001b[39min\u001b[39;00m \u001b[39mrange\u001b[39;49m[\u001b[39m1\u001b[39;49m,\u001b[39m2\u001b[39;49m,\u001b[39m3\u001b[39;49m]:\n\u001b[0;32m      <a href='vscode-notebook-cell:/c%3A/Users/lilli/Documents/Studium/Code/MSE%20Project/MCI-MSE_Aufgaben/P%C3%9C2/PUE2.1.ipynb#ch0000000?line=4'>5</a>\u001b[0m     n \u001b[39m=\u001b[39m n\u001b[39m+\u001b[39m\u001b[39m1\u001b[39m\n\u001b[0;32m      <a href='vscode-notebook-cell:/c%3A/Users/lilli/Documents/Studium/Code/MSE%20Project/MCI-MSE_Aufgaben/P%C3%9C2/PUE2.1.ipynb#ch0000000?line=5'>6</a>\u001b[0m file_name \u001b[39m=\u001b[39m \u001b[39m'\u001b[39m\u001b[39minput_data/power_data_n.txt\u001b[39m\u001b[39m'\u001b[39m\n",
      "\u001b[1;31mTypeError\u001b[0m: 'type' object is not subscriptable"
     ]
    }
   ],
   "source": [
    "import numpy as np\n",
    "import matplotlib.pyplot as plt\n",
    "\n",
    "for i in range[1,2,3]:\n",
    "    n = n+1\n",
    "file_name = 'input_data/power_data_n.txt'\n",
    "\n",
    "power_data_watts = open(file_name).read().split(\"\\n\")\n",
    "x = np.array(power_data_watts)\n",
    "\n",
    "#plt.title(\"Line graph\")\n",
    "plt.plot(x, color=\"red\")\n",
    "plt.show()\n",
    "\n",
    "fobj_in = open(\"input_data/power_data_1.txt\")\n",
    "fobj_out = open(\"input_data/power_data_2.txt\",\"w\")\n",
    "i = 1\n",
    "for line in fobj_in:\n",
    "    print(line.rstrip())\n",
    "    fobj_out.write(str(i) + \": \" + line)\n",
    "    i = i + 1\n",
    "fobj_in.close()\n",
    "fobj_out.close()"
   ]
  },
  {
   "cell_type": "code",
   "execution_count": null,
   "metadata": {},
   "outputs": [],
   "source": []
  }
 ],
 "metadata": {
  "interpreter": {
   "hash": "a08cc04a0f0db71c16d6136c6447eef258a1d541c2db18e098adf191d06970df"
  },
  "kernelspec": {
   "display_name": "Python 3.10.3 64-bit",
   "language": "python",
   "name": "python3"
  },
  "language_info": {
   "codemirror_mode": {
    "name": "ipython",
    "version": 3
   },
   "file_extension": ".py",
   "mimetype": "text/x-python",
   "name": "python",
   "nbconvert_exporter": "python",
   "pygments_lexer": "ipython3",
   "version": "3.10.3"
  },
  "orig_nbformat": 4
 },
 "nbformat": 4,
 "nbformat_minor": 2
}
